{
 "cells": [
  {
   "cell_type": "code",
   "execution_count": 1,
   "metadata": {},
   "outputs": [],
   "source": [
    "from flask import Flask\n",
    "app = Flask(__name__)\n",
    "\n",
    "\n",
    "@app.route('/')\n",
    "def hello():\n",
    "    return 'Hello World!'"
   ]
  },
  {
   "cell_type": "code",
   "execution_count": 2,
   "metadata": {},
   "outputs": [],
   "source": [
    "from flask import Flask, jsonify\n",
    "app = Flask(__name__)\n",
    "\n",
    "# @app.route('/predict', methods=['POST'])\n",
    "# def predict():\n",
    "#     return jsonify({'class_id': 'IMAGE_NET_XXX', 'class_name': 'Cat'})"
   ]
  },
  {
   "cell_type": "code",
   "execution_count": 3,
   "metadata": {},
   "outputs": [],
   "source": [
    "import io\n",
    "\n",
    "import torchvision.transforms as transforms\n",
    "from PIL import Image\n",
    "\n",
    "def transform_image(image_bytes):\n",
    "    my_transforms = transforms.Compose([transforms.Resize(255),\n",
    "                                        transforms.CenterCrop(224),\n",
    "                                        transforms.ToTensor(),\n",
    "                                        transforms.Normalize(\n",
    "                                            [0.485, 0.456, 0.406],\n",
    "                                            [0.229, 0.224, 0.225])])\n",
    "    image = Image.open(io.BytesIO(image_bytes))\n",
    "    return my_transforms(image).unsqueeze(0)"
   ]
  },
  {
   "cell_type": "code",
   "execution_count": 4,
   "metadata": {},
   "outputs": [
    {
     "name": "stdout",
     "output_type": "stream",
     "text": [
      "tensor([[[[ 0.4508,  0.4166,  0.3994,  ..., -1.3473, -1.3473, -1.3473],\n",
      "          [ 0.5364,  0.4851,  0.4508,  ..., -1.2959, -1.3130, -1.3302],\n",
      "          [ 0.7248,  0.6392,  0.6049,  ..., -1.2959, -1.3302, -1.3644],\n",
      "          ...,\n",
      "          [ 1.3584,  1.3755,  1.4098,  ...,  1.1700,  1.3584,  1.6667],\n",
      "          [ 1.8893,  1.7694,  1.4440,  ...,  1.2899,  1.4783,  1.5468],\n",
      "          [ 1.6324,  1.8379,  1.8379,  ...,  1.4783,  1.7352,  1.4612]],\n",
      "\n",
      "         [[ 0.5728,  0.5378,  0.5203,  ..., -1.3529, -1.3529, -1.3529],\n",
      "          [ 0.6604,  0.6078,  0.5728,  ..., -1.3004, -1.3354, -1.3529],\n",
      "          [ 0.8529,  0.7654,  0.7304,  ..., -1.3004, -1.3354, -1.3704],\n",
      "          ...,\n",
      "          [ 1.4657,  1.4657,  1.4832,  ...,  1.3256,  1.5357,  1.8508],\n",
      "          [ 2.0084,  1.8683,  1.5182,  ...,  1.4657,  1.6583,  1.7283],\n",
      "          [ 1.7458,  1.9384,  1.9209,  ...,  1.6583,  1.9209,  1.6408]],\n",
      "\n",
      "         [[ 0.7228,  0.6879,  0.6531,  ..., -1.6476, -1.6302, -1.6302],\n",
      "          [ 0.8099,  0.7576,  0.7228,  ..., -1.6302, -1.6302, -1.6476],\n",
      "          [ 1.0017,  0.9145,  0.8797,  ..., -1.6650, -1.6650, -1.6999],\n",
      "          ...,\n",
      "          [ 1.6291,  1.6291,  1.6465,  ...,  1.6291,  1.8208,  2.1346],\n",
      "          [ 2.1694,  2.0300,  1.6814,  ...,  1.7685,  1.9428,  2.0125],\n",
      "          [ 1.9254,  2.0997,  2.0823,  ...,  1.9428,  2.2043,  1.9254]]]])\n"
     ]
    }
   ],
   "source": [
    "with open(\"./img/sample_file.jpeg\", 'rb') as f:\n",
    "    image_bytes = f.read()\n",
    "    tensor = transform_image(image_bytes=image_bytes)\n",
    "    print(tensor)"
   ]
  },
  {
   "cell_type": "code",
   "execution_count": 5,
   "metadata": {},
   "outputs": [],
   "source": [
    "from torchvision import models\n",
    "\n",
    "# Make sure to set `weights` as `'IMAGENET1K_V1'` to use the pretrained weights:\n",
    "model = models.densenet121(weights='IMAGENET1K_V1')\n",
    "# Since we are using our model only for inference, switch to `eval` mode:\n",
    "model.eval()\n",
    "\n",
    "\n",
    "def get_prediction(image_bytes):\n",
    "    tensor = transform_image(image_bytes=image_bytes)\n",
    "    outputs = model.forward(tensor)\n",
    "    _, y_hat = outputs.max(1)\n",
    "    return y_hat"
   ]
  },
  {
   "cell_type": "code",
   "execution_count": 6,
   "metadata": {},
   "outputs": [],
   "source": [
    "import json\n",
    "\n",
    "imagenet_class_index = json.load(open('./imagenet_class_index.json'))\n",
    "\n",
    "def get_prediction(image_bytes):\n",
    "    tensor = transform_image(image_bytes=image_bytes)\n",
    "    outputs = model.forward(tensor)\n",
    "    _, y_hat = outputs.max(1)\n",
    "    predicted_idx = str(y_hat.item())\n",
    "    return imagenet_class_index[predicted_idx]"
   ]
  },
  {
   "cell_type": "code",
   "execution_count": 7,
   "metadata": {},
   "outputs": [
    {
     "name": "stdout",
     "output_type": "stream",
     "text": [
      "['n02124075', 'Egyptian_cat']\n"
     ]
    }
   ],
   "source": [
    "with open(\"./img/sample_file.jpeg\", 'rb') as f:\n",
    "    image_bytes = f.read()\n",
    "    print(get_prediction(image_bytes=image_bytes))"
   ]
  },
  {
   "cell_type": "code",
   "execution_count": 8,
   "metadata": {},
   "outputs": [],
   "source": [
    "from flask import request\n",
    "\n",
    "@app.route('/predict', methods=['POST'])\n",
    "def predict():\n",
    "    if request.method == 'POST':\n",
    "        # we will get the file from the request\n",
    "        file = request.files['file']\n",
    "        # convert that to bytes\n",
    "        img_bytes = file.read()\n",
    "        class_id, class_name = get_prediction(image_bytes=img_bytes)\n",
    "        return jsonify({'class_id': class_id, 'class_name': class_name})"
   ]
  }
 ],
 "metadata": {
  "kernelspec": {
   "display_name": "Python 3",
   "language": "python",
   "name": "python3"
  },
  "language_info": {
   "codemirror_mode": {
    "name": "ipython",
    "version": 3
   },
   "file_extension": ".py",
   "mimetype": "text/x-python",
   "name": "python",
   "nbconvert_exporter": "python",
   "pygments_lexer": "ipython3",
   "version": "3.10.12"
  }
 },
 "nbformat": 4,
 "nbformat_minor": 2
}
