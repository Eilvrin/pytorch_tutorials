{
 "cells": [
  {
   "cell_type": "code",
   "execution_count": 6,
   "id": "5e916085-a148-46db-b53e-5b37b93e4160",
   "metadata": {},
   "outputs": [],
   "source": [
    "import torch\n",
    "import torch.nn as nn\n",
    "import torch.nn.functional as F\n",
    "import onnxruntime\n",
    "\n",
    "import onnx\n",
    "\n",
    "class MyModel(nn.Module):\n",
    "\n",
    "    def __init__(self):\n",
    "        super(MyModel, self).__init__()\n",
    "        self.conv1 = nn.Conv2d(1, 6, 5)\n",
    "        self.conv2 = nn.Conv2d(6, 16, 5)\n",
    "        self.fc1 = nn.Linear(16 * 5 * 5, 120)\n",
    "        self.fc2 = nn.Linear(120, 84)\n",
    "        self.fc3 = nn.Linear(84, 10)\n",
    "\n",
    "    def forward(self, x):\n",
    "        x = F.max_pool2d(F.relu(self.conv1(x)), (2, 2))\n",
    "        x = F.max_pool2d(F.relu(self.conv2(x)), 2)\n",
    "        x = torch.flatten(x, 1)\n",
    "        x = F.relu(self.fc1(x))\n",
    "        x = F.relu(self.fc2(x))\n",
    "        x = self.fc3(x)\n",
    "        return x"
   ]
  },
  {
   "cell_type": "code",
   "execution_count": 7,
   "id": "d0d4333f-b8c5-4c2c-9423-b1021dac03d9",
   "metadata": {},
   "outputs": [
    {
     "name": "stderr",
     "output_type": "stream",
     "text": [
      "/home/oksana/lab/dl/lib/python3.10/site-packages/torch/onnx/_internal/exporter.py:136: UserWarning: torch.onnx.dynamo_export only implements opset version 18 for now. If you need to use a different opset version, please register them with register_custom_op.\n",
      "  warnings.warn(\n"
     ]
    }
   ],
   "source": [
    "torch_model = MyModel()\n",
    "\n",
    "torch_input = torch.randn(1, 1, 32, 32)\n",
    "onnx_program = torch.onnx.dynamo_export(torch_model, torch_input)"
   ]
  },
  {
   "cell_type": "code",
   "execution_count": 8,
   "id": "d88065a0-d705-4339-bf45-40a3ae082d9b",
   "metadata": {},
   "outputs": [],
   "source": [
    "onnx_program.save(\"my_image_classifier.onnx\")"
   ]
  },
  {
   "cell_type": "code",
   "execution_count": 9,
   "id": "32f948f6-26b6-4030-9482-f5d3e55387de",
   "metadata": {},
   "outputs": [],
   "source": [
    "onnx_model = onnx.load(\"my_image_classifier.onnx\")\n",
    "onnx.checker.check_model(onnx_model)"
   ]
  },
  {
   "cell_type": "code",
   "execution_count": 22,
   "id": "e87db494-73b5-45a2-8fb7-59e9873b2533",
   "metadata": {},
   "outputs": [
    {
     "name": "stdout",
     "output_type": "stream",
     "text": [
      "Input length: 1\n",
      "Sample input: (tensor([[[[ 1.0059, -0.7643, -0.4352,  ...,  0.9810,  0.5191, -1.4382],\n",
      "          [ 0.0483,  0.2972,  0.4813,  ...,  0.0178,  0.7878, -0.3140],\n",
      "          [ 0.1914,  0.2130, -0.3057,  ...,  0.9278,  0.7526, -0.9128],\n",
      "          ...,\n",
      "          [ 0.2247, -2.0818, -2.6542,  ...,  0.5326,  2.6555, -1.0239],\n",
      "          [ 1.0937,  1.8356, -0.4176,  ...,  0.1687, -0.0972,  1.0805],\n",
      "          [ 1.3127, -0.8750,  1.0790,  ..., -0.9243,  0.2615,  0.9691]]]]),)\n"
     ]
    }
   ],
   "source": [
    "onnx_input = onnx_program.adapt_torch_inputs_to_onnx(torch_input)\n",
    "print(f\"Input length: {len(onnx_input)}\")\n",
    "print(f\"Sample input: {onnx_input}\")\n",
    "\n",
    "ort_session = onnxruntime.InferenceSession(\"./my_image_classifier.onnx\", providers=['CPUExecutionProvider'])\n",
    "\n",
    "def to_numpy(tensor):\n",
    "    return tensor.detach().cpu().numpy() if tensor.requires_grad else tensor.cpu().numpy()\n",
    "\n",
    "onnxruntime_input = {k.name: to_numpy(v) for k, v in zip(ort_session.get_inputs(), onnx_input)}\n",
    "\n",
    "onnxruntime_outputs = ort_session.run(None, onnxruntime_input)"
   ]
  },
  {
   "cell_type": "code",
   "execution_count": 23,
   "id": "6d4986ef-51a4-4c6c-b8fc-cfe44f81441f",
   "metadata": {},
   "outputs": [
    {
     "data": {
      "text/plain": [
       "{'l_x_': array([[[[ 1.0058511 , -0.76430833, -0.43518716, ...,  0.98102295,\n",
       "            0.51906806, -1.438247  ],\n",
       "          [ 0.04827968,  0.29716635,  0.48133898, ...,  0.01778525,\n",
       "            0.78782237, -0.31397158],\n",
       "          [ 0.19143265,  0.2129756 , -0.3056532 , ...,  0.92784697,\n",
       "            0.7526169 , -0.9128105 ],\n",
       "          ...,\n",
       "          [ 0.2247328 , -2.0818071 , -2.6542196 , ...,  0.53263646,\n",
       "            2.65547   , -1.0239217 ],\n",
       "          [ 1.0937264 ,  1.8355749 , -0.41756773, ...,  0.16866119,\n",
       "           -0.09717131,  1.0805334 ],\n",
       "          [ 1.3127235 , -0.87498254,  1.0790318 , ..., -0.92430913,\n",
       "            0.26153386,  0.96910375]]]], dtype=float32)}"
      ]
     },
     "execution_count": 23,
     "metadata": {},
     "output_type": "execute_result"
    }
   ],
   "source": [
    "onnxruntime_input"
   ]
  },
  {
   "cell_type": "code",
   "execution_count": 92,
   "id": "b4edeb5b-1bd0-43e5-a30c-8d12fe89174e",
   "metadata": {},
   "outputs": [],
   "source": [
    "torch_outputs = torch_model(torch_input)\n",
    "torch_outputs = onnx_program.adapt_torch_outputs_to_onnx(torch_outputs)"
   ]
  },
  {
   "cell_type": "code",
   "execution_count": 94,
   "id": "899acbb8-0fdb-4fb3-8eea-adfd3241ca41",
   "metadata": {},
   "outputs": [
    {
     "name": "stdout",
     "output_type": "stream",
     "text": [
      "PyTorch and ONNX Runtime output matched!\n",
      "Output length: 1\n",
      "Sample output: [array([[ 0.01185731, -0.05390121, -0.00806683,  0.07318756, -0.08826195,\n",
      "        -0.14342554,  0.09486622,  0.03274141,  0.04959921,  0.03379258]],\n",
      "      dtype=float32)]\n"
     ]
    }
   ],
   "source": [
    "assert len(torch_outputs) == len(onnxruntime_outputs)\n",
    "for torch_output, onnxruntime_output in zip(torch_outputs, onnxruntime_outputs):\n",
    "    torch.testing.assert_close(torch_output, torch.tensor(onnxruntime_output))\n",
    "\n",
    "print(\"PyTorch and ONNX Runtime output matched!\")\n",
    "print(f\"Output length: {len(onnxruntime_outputs)}\")\n",
    "print(f\"Sample output: {onnxruntime_outputs}\")"
   ]
  },
  {
   "cell_type": "code",
   "execution_count": null,
   "id": "f79b44c8-13e4-4eae-9ee4-3d527ef1215f",
   "metadata": {},
   "outputs": [],
   "source": []
  }
 ],
 "metadata": {
  "kernelspec": {
   "display_name": "Python 3 (ipykernel)",
   "language": "python",
   "name": "python3"
  },
  "language_info": {
   "codemirror_mode": {
    "name": "ipython",
    "version": 3
   },
   "file_extension": ".py",
   "mimetype": "text/x-python",
   "name": "python",
   "nbconvert_exporter": "python",
   "pygments_lexer": "ipython3",
   "version": "3.10.12"
  }
 },
 "nbformat": 4,
 "nbformat_minor": 5
}
