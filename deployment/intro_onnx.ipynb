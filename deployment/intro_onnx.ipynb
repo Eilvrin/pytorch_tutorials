{
 "cells": [
  {
   "cell_type": "code",
   "execution_count": 1,
   "id": "5e916085-a148-46db-b53e-5b37b93e4160",
   "metadata": {},
   "outputs": [],
   "source": [
    "import torch\n",
    "import torch.nn as nn\n",
    "import torch.nn.functional as F\n",
    "import onnxruntime\n",
    "\n",
    "import onnx\n",
    "\n",
    "class MyModel(nn.Module):\n",
    "\n",
    "    def __init__(self):\n",
    "        super(MyModel, self).__init__()\n",
    "        self.conv1 = nn.Conv2d(1, 6, 5)\n",
    "        self.conv2 = nn.Conv2d(6, 16, 5)\n",
    "        self.fc1 = nn.Linear(16 * 5 * 5, 120)\n",
    "        self.fc2 = nn.Linear(120, 84)\n",
    "        self.fc3 = nn.Linear(84, 10)\n",
    "\n",
    "    def forward(self, x):\n",
    "        x = F.max_pool2d(F.relu(self.conv1(x)), (2, 2))\n",
    "        x = F.max_pool2d(F.relu(self.conv2(x)), 2)\n",
    "        x = torch.flatten(x, 1)\n",
    "        x = F.relu(self.fc1(x))\n",
    "        x = F.relu(self.fc2(x))\n",
    "        x = self.fc3(x)\n",
    "        return x"
   ]
  },
  {
   "cell_type": "code",
   "execution_count": 3,
   "id": "d0d4333f-b8c5-4c2c-9423-b1021dac03d9",
   "metadata": {},
   "outputs": [
    {
     "name": "stderr",
     "output_type": "stream",
     "text": [
      "/home/kuo1st/.local/lib/python3.10/site-packages/onnxscript/converter.py:823: FutureWarning: 'onnxscript.values.Op.param_schemas' is deprecated in version 0.1 and will be removed in the future. Please use '.op_signature' instead.\n",
      "  param_schemas = callee.param_schemas()\n",
      "/home/kuo1st/.local/lib/python3.10/site-packages/onnxscript/converter.py:823: FutureWarning: 'onnxscript.values.OnnxFunction.param_schemas' is deprecated in version 0.1 and will be removed in the future. Please use '.op_signature' instead.\n",
      "  param_schemas = callee.param_schemas()\n",
      "/usr/local/lib/python3.10/dist-packages/torch/onnx/_internal/_exporter_legacy.py:116: UserWarning: torch.onnx.dynamo_export only implements opset version 18 for now. If you need to use a different opset version, please register them with register_custom_op.\n",
      "  warnings.warn(\n",
      "/usr/local/lib/python3.10/dist-packages/torch/onnx/_internal/fx/onnxfunction_dispatcher.py:503: FutureWarning: 'onnxscript.values.TracedOnnxFunction.param_schemas' is deprecated in version 0.1 and will be removed in the future. Please use '.op_signature' instead.\n",
      "  self.param_schema = self.onnxfunction.param_schemas()\n"
     ]
    }
   ],
   "source": [
    "torch_model = MyModel()\n",
    "\n",
    "torch_input = torch.randn(1, 1, 32, 32)\n",
    "onnx_program = torch.onnx.dynamo_export(torch_model, torch_input)"
   ]
  },
  {
   "cell_type": "code",
   "execution_count": 4,
   "id": "d88065a0-d705-4339-bf45-40a3ae082d9b",
   "metadata": {},
   "outputs": [],
   "source": [
    "onnx_program.save(\"my_image_classifier.onnx\")"
   ]
  },
  {
   "cell_type": "code",
   "execution_count": 5,
   "id": "32f948f6-26b6-4030-9482-f5d3e55387de",
   "metadata": {},
   "outputs": [],
   "source": [
    "onnx_model = onnx.load(\"my_image_classifier.onnx\")\n",
    "onnx.checker.check_model(onnx_model)"
   ]
  },
  {
   "cell_type": "code",
   "execution_count": 6,
   "id": "e87db494-73b5-45a2-8fb7-59e9873b2533",
   "metadata": {},
   "outputs": [
    {
     "name": "stdout",
     "output_type": "stream",
     "text": [
      "Input length: 1\n",
      "Sample input: (tensor([[[[ 0.1942, -0.4748, -0.9118,  ...,  0.1208,  0.3907,  0.5167],\n",
      "          [ 1.1289,  0.1684,  1.0558,  ...,  0.2496, -0.6566,  1.5778],\n",
      "          [ 1.5094, -1.0881, -1.4730,  ..., -0.8824, -2.6115, -1.6222],\n",
      "          ...,\n",
      "          [-0.2878, -0.5005, -1.0448,  ...,  1.5891,  0.8803,  0.1257],\n",
      "          [-3.7665,  0.2684,  0.5040,  ..., -0.7130, -0.7664, -0.2990],\n",
      "          [-0.5156,  2.4762, -0.6279,  ...,  0.2797,  0.1082, -1.7672]]]]),)\n"
     ]
    }
   ],
   "source": [
    "onnx_input = onnx_program.adapt_torch_inputs_to_onnx(torch_input)\n",
    "print(f\"Input length: {len(onnx_input)}\")\n",
    "print(f\"Sample input: {onnx_input}\")\n",
    "\n",
    "ort_session = onnxruntime.InferenceSession(\"./my_image_classifier.onnx\", providers=['CPUExecutionProvider'])\n",
    "\n",
    "def to_numpy(tensor):\n",
    "    return tensor.detach().cpu().numpy() if tensor.requires_grad else tensor.cpu().numpy()\n",
    "\n",
    "onnxruntime_input = {k.name: to_numpy(v) for k, v in zip(ort_session.get_inputs(), onnx_input)}\n",
    "\n",
    "onnxruntime_outputs = ort_session.run(None, onnxruntime_input)"
   ]
  },
  {
   "cell_type": "code",
   "execution_count": 7,
   "id": "6d4986ef-51a4-4c6c-b8fc-cfe44f81441f",
   "metadata": {},
   "outputs": [
    {
     "data": {
      "text/plain": [
       "{'l_x_': array([[[[ 0.19419159, -0.47479498, -0.9117583 , ...,  0.12077317,\n",
       "            0.39066866,  0.5167254 ],\n",
       "          [ 1.1289116 ,  0.16836381,  1.0557916 , ...,  0.24960539,\n",
       "           -0.65658426,  1.5778296 ],\n",
       "          [ 1.509396  , -1.0881438 , -1.4730294 , ..., -0.88236344,\n",
       "           -2.6114843 , -1.6222423 ],\n",
       "          ...,\n",
       "          [-0.2878471 , -0.5005211 , -1.0448407 , ...,  1.5890512 ,\n",
       "            0.88028604,  0.12574488],\n",
       "          [-3.7664676 ,  0.26840717,  0.50401944, ..., -0.71299934,\n",
       "           -0.7663836 , -0.2989551 ],\n",
       "          [-0.51561105,  2.4761722 , -0.6278699 , ...,  0.27974784,\n",
       "            0.10822505, -1.767246  ]]]], dtype=float32)}"
      ]
     },
     "execution_count": 7,
     "metadata": {},
     "output_type": "execute_result"
    }
   ],
   "source": [
    "onnxruntime_input"
   ]
  },
  {
   "cell_type": "code",
   "execution_count": 8,
   "id": "b4edeb5b-1bd0-43e5-a30c-8d12fe89174e",
   "metadata": {},
   "outputs": [],
   "source": [
    "torch_outputs = torch_model(torch_input)\n",
    "torch_outputs = onnx_program.adapt_torch_outputs_to_onnx(torch_outputs)"
   ]
  },
  {
   "cell_type": "code",
   "execution_count": 9,
   "id": "899acbb8-0fdb-4fb3-8eea-adfd3241ca41",
   "metadata": {},
   "outputs": [
    {
     "name": "stdout",
     "output_type": "stream",
     "text": [
      "PyTorch and ONNX Runtime output matched!\n",
      "Output length: 1\n",
      "Sample output: [array([[-0.01925719, -0.13492969, -0.17477617, -0.04467422,  0.04082778,\n",
      "        -0.03521884,  0.14429587,  0.07565545, -0.02656089,  0.01284647]],\n",
      "      dtype=float32)]\n"
     ]
    }
   ],
   "source": [
    "assert len(torch_outputs) == len(onnxruntime_outputs)\n",
    "for torch_output, onnxruntime_output in zip(torch_outputs, onnxruntime_outputs):\n",
    "    torch.testing.assert_close(torch_output, torch.tensor(onnxruntime_output))\n",
    "\n",
    "print(\"PyTorch and ONNX Runtime output matched!\")\n",
    "print(f\"Output length: {len(onnxruntime_outputs)}\")\n",
    "print(f\"Sample output: {onnxruntime_outputs}\")"
   ]
  }
 ],
 "metadata": {
  "kernelspec": {
   "display_name": "Python 3",
   "language": "python",
   "name": "python3"
  },
  "language_info": {
   "codemirror_mode": {
    "name": "ipython",
    "version": 3
   },
   "file_extension": ".py",
   "mimetype": "text/x-python",
   "name": "python",
   "nbconvert_exporter": "python",
   "pygments_lexer": "ipython3",
   "version": "3.10.12"
  }
 },
 "nbformat": 4,
 "nbformat_minor": 5
}
