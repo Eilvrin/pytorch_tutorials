{
 "cells": [
  {
   "cell_type": "code",
   "execution_count": 2,
   "metadata": {},
   "outputs": [],
   "source": [
    "import torch\n",
    "from torch import nn\n",
    "import torch.nn.utils.prune as prune\n",
    "import torch.nn.functional as F"
   ]
  },
  {
   "cell_type": "code",
   "execution_count": 3,
   "metadata": {},
   "outputs": [],
   "source": [
    "device = torch.device(\"cuda\" if torch.cuda.is_available() else \"cpu\")\n",
    "\n",
    "class LeNet(nn.Module):\n",
    "    def __init__(self):\n",
    "        super(LeNet, self).__init__()\n",
    "        # 1 input image channel, 6 output channels, 5x5 square conv kernel\n",
    "        self.conv1 = nn.Conv2d(1, 6, 5)\n",
    "        self.conv2 = nn.Conv2d(6, 16, 5)\n",
    "        self.fc1 = nn.Linear(16 * 5 * 5, 120)  # 5x5 image dimension\n",
    "        self.fc2 = nn.Linear(120, 84)\n",
    "        self.fc3 = nn.Linear(84, 10)\n",
    "\n",
    "    def forward(self, x):\n",
    "        x = F.max_pool2d(F.relu(self.conv1(x)), (2, 2))\n",
    "        x = F.max_pool2d(F.relu(self.conv2(x)), 2)\n",
    "        x = x.view(-1, int(x.nelement() / x.shape[0]))\n",
    "        x = F.relu(self.fc1(x))\n",
    "        x = F.relu(self.fc2(x))\n",
    "        x = self.fc3(x)\n",
    "        return x\n",
    "\n",
    "model = LeNet().to(device=device)"
   ]
  },
  {
   "cell_type": "code",
   "execution_count": 6,
   "metadata": {},
   "outputs": [
    {
     "name": "stdout",
     "output_type": "stream",
     "text": [
      "[('weight', Parameter containing:\n",
      "tensor([[[[ 0.0667,  0.0357,  0.1419,  0.1640, -0.1120],\n",
      "          [ 0.1489,  0.0517, -0.0071,  0.1824,  0.1067],\n",
      "          [ 0.0764,  0.0485,  0.1004, -0.0234,  0.0819],\n",
      "          [-0.0163, -0.0198, -0.0569, -0.1769, -0.1567],\n",
      "          [-0.1167,  0.0235, -0.0667, -0.1726, -0.0213]]],\n",
      "\n",
      "\n",
      "        [[[-0.0787,  0.1017, -0.1796, -0.1655, -0.0449],\n",
      "          [ 0.0863,  0.1568,  0.0179, -0.1810,  0.0276],\n",
      "          [-0.1481,  0.1420,  0.1565, -0.0609,  0.1882],\n",
      "          [ 0.1435, -0.1081,  0.1197,  0.0508,  0.1661],\n",
      "          [-0.0524, -0.1547,  0.1597,  0.1284, -0.1527]]],\n",
      "\n",
      "\n",
      "        [[[-0.1017, -0.1946, -0.1383,  0.0648, -0.1407],\n",
      "          [-0.1090, -0.0511,  0.0697,  0.0737, -0.0771],\n",
      "          [-0.0069,  0.0570,  0.0786, -0.0604,  0.1978],\n",
      "          [ 0.0857,  0.1504,  0.0641, -0.1069, -0.1769],\n",
      "          [ 0.0969, -0.0036,  0.1420, -0.0533, -0.0329]]],\n",
      "\n",
      "\n",
      "        [[[ 0.1524, -0.0125, -0.0613,  0.0719,  0.0128],\n",
      "          [ 0.1186,  0.0125,  0.0843,  0.1034,  0.1953],\n",
      "          [-0.0193, -0.1401,  0.0331,  0.1121,  0.0949],\n",
      "          [-0.0973,  0.1125,  0.0963,  0.1036,  0.1774],\n",
      "          [ 0.0810, -0.1515,  0.1990,  0.0416,  0.0318]]],\n",
      "\n",
      "\n",
      "        [[[ 0.1599,  0.1470, -0.1594, -0.1067, -0.1905],\n",
      "          [-0.1696, -0.0629, -0.1679,  0.1519, -0.0074],\n",
      "          [ 0.0901,  0.1827, -0.1774, -0.0780, -0.1945],\n",
      "          [-0.0958,  0.0545,  0.1505,  0.1553, -0.0920],\n",
      "          [ 0.1562,  0.1622,  0.1717,  0.1908,  0.1551]]],\n",
      "\n",
      "\n",
      "        [[[-0.1611,  0.0739, -0.1253,  0.0042, -0.1580],\n",
      "          [-0.0897,  0.1489, -0.0174,  0.0270, -0.1702],\n",
      "          [ 0.0377, -0.0795, -0.1960,  0.1534,  0.1082],\n",
      "          [-0.1959,  0.0158, -0.1671,  0.1609,  0.0747],\n",
      "          [ 0.0437, -0.1481, -0.0477,  0.1064,  0.1140]]]], device='cuda:0',\n",
      "       requires_grad=True)), ('bias', Parameter containing:\n",
      "tensor([ 0.0722,  0.0131,  0.0242, -0.1499, -0.1643,  0.0177], device='cuda:0',\n",
      "       requires_grad=True))]\n"
     ]
    }
   ],
   "source": [
    "module = model.conv1\n",
    "print(list(module.named_parameters()))"
   ]
  },
  {
   "cell_type": "code",
   "execution_count": 7,
   "metadata": {},
   "outputs": [
    {
     "name": "stdout",
     "output_type": "stream",
     "text": [
      "[]\n"
     ]
    }
   ],
   "source": [
    "print(list(module.named_buffers()))"
   ]
  },
  {
   "cell_type": "code",
   "execution_count": 8,
   "metadata": {},
   "outputs": [
    {
     "data": {
      "text/plain": [
       "Conv2d(1, 6, kernel_size=(5, 5), stride=(1, 1))"
      ]
     },
     "execution_count": 8,
     "metadata": {},
     "output_type": "execute_result"
    }
   ],
   "source": [
    "prune.random_unstructured(module, name=\"weight\", amount=0.3)\n"
   ]
  },
  {
   "cell_type": "code",
   "execution_count": 9,
   "metadata": {},
   "outputs": [
    {
     "name": "stdout",
     "output_type": "stream",
     "text": [
      "[('bias', Parameter containing:\n",
      "tensor([ 0.0722,  0.0131,  0.0242, -0.1499, -0.1643,  0.0177], device='cuda:0',\n",
      "       requires_grad=True)), ('weight_orig', Parameter containing:\n",
      "tensor([[[[ 0.0667,  0.0357,  0.1419,  0.1640, -0.1120],\n",
      "          [ 0.1489,  0.0517, -0.0071,  0.1824,  0.1067],\n",
      "          [ 0.0764,  0.0485,  0.1004, -0.0234,  0.0819],\n",
      "          [-0.0163, -0.0198, -0.0569, -0.1769, -0.1567],\n",
      "          [-0.1167,  0.0235, -0.0667, -0.1726, -0.0213]]],\n",
      "\n",
      "\n",
      "        [[[-0.0787,  0.1017, -0.1796, -0.1655, -0.0449],\n",
      "          [ 0.0863,  0.1568,  0.0179, -0.1810,  0.0276],\n",
      "          [-0.1481,  0.1420,  0.1565, -0.0609,  0.1882],\n",
      "          [ 0.1435, -0.1081,  0.1197,  0.0508,  0.1661],\n",
      "          [-0.0524, -0.1547,  0.1597,  0.1284, -0.1527]]],\n",
      "\n",
      "\n",
      "        [[[-0.1017, -0.1946, -0.1383,  0.0648, -0.1407],\n",
      "          [-0.1090, -0.0511,  0.0697,  0.0737, -0.0771],\n",
      "          [-0.0069,  0.0570,  0.0786, -0.0604,  0.1978],\n",
      "          [ 0.0857,  0.1504,  0.0641, -0.1069, -0.1769],\n",
      "          [ 0.0969, -0.0036,  0.1420, -0.0533, -0.0329]]],\n",
      "\n",
      "\n",
      "        [[[ 0.1524, -0.0125, -0.0613,  0.0719,  0.0128],\n",
      "          [ 0.1186,  0.0125,  0.0843,  0.1034,  0.1953],\n",
      "          [-0.0193, -0.1401,  0.0331,  0.1121,  0.0949],\n",
      "          [-0.0973,  0.1125,  0.0963,  0.1036,  0.1774],\n",
      "          [ 0.0810, -0.1515,  0.1990,  0.0416,  0.0318]]],\n",
      "\n",
      "\n",
      "        [[[ 0.1599,  0.1470, -0.1594, -0.1067, -0.1905],\n",
      "          [-0.1696, -0.0629, -0.1679,  0.1519, -0.0074],\n",
      "          [ 0.0901,  0.1827, -0.1774, -0.0780, -0.1945],\n",
      "          [-0.0958,  0.0545,  0.1505,  0.1553, -0.0920],\n",
      "          [ 0.1562,  0.1622,  0.1717,  0.1908,  0.1551]]],\n",
      "\n",
      "\n",
      "        [[[-0.1611,  0.0739, -0.1253,  0.0042, -0.1580],\n",
      "          [-0.0897,  0.1489, -0.0174,  0.0270, -0.1702],\n",
      "          [ 0.0377, -0.0795, -0.1960,  0.1534,  0.1082],\n",
      "          [-0.1959,  0.0158, -0.1671,  0.1609,  0.0747],\n",
      "          [ 0.0437, -0.1481, -0.0477,  0.1064,  0.1140]]]], device='cuda:0',\n",
      "       requires_grad=True))]\n"
     ]
    }
   ],
   "source": [
    "print(list(module.named_parameters()))"
   ]
  },
  {
   "cell_type": "code",
   "execution_count": 10,
   "metadata": {},
   "outputs": [
    {
     "name": "stdout",
     "output_type": "stream",
     "text": [
      "[('weight_mask', tensor([[[[1., 0., 1., 0., 0.],\n",
      "          [1., 0., 1., 0., 0.],\n",
      "          [0., 1., 1., 1., 1.],\n",
      "          [1., 1., 1., 1., 1.],\n",
      "          [1., 0., 0., 1., 1.]]],\n",
      "\n",
      "\n",
      "        [[[0., 0., 1., 1., 0.],\n",
      "          [0., 1., 0., 0., 1.],\n",
      "          [1., 1., 0., 0., 1.],\n",
      "          [1., 0., 1., 1., 1.],\n",
      "          [1., 0., 0., 1., 1.]]],\n",
      "\n",
      "\n",
      "        [[[0., 1., 1., 1., 1.],\n",
      "          [0., 0., 1., 1., 0.],\n",
      "          [1., 1., 1., 1., 0.],\n",
      "          [1., 1., 0., 1., 1.],\n",
      "          [0., 1., 1., 1., 1.]]],\n",
      "\n",
      "\n",
      "        [[[0., 1., 1., 1., 0.],\n",
      "          [1., 1., 1., 0., 0.],\n",
      "          [1., 0., 1., 1., 1.],\n",
      "          [1., 1., 1., 1., 1.],\n",
      "          [1., 1., 1., 0., 0.]]],\n",
      "\n",
      "\n",
      "        [[[0., 1., 0., 1., 1.],\n",
      "          [0., 1., 1., 1., 1.],\n",
      "          [1., 1., 1., 1., 1.],\n",
      "          [1., 1., 1., 0., 0.],\n",
      "          [0., 1., 1., 0., 1.]]],\n",
      "\n",
      "\n",
      "        [[[0., 1., 1., 1., 1.],\n",
      "          [1., 1., 1., 0., 1.],\n",
      "          [1., 1., 0., 1., 1.],\n",
      "          [1., 1., 1., 0., 1.],\n",
      "          [1., 1., 1., 1., 1.]]]], device='cuda:0'))]\n"
     ]
    }
   ],
   "source": [
    "print(list(module.named_buffers()))"
   ]
  },
  {
   "cell_type": "code",
   "execution_count": 11,
   "metadata": {},
   "outputs": [
    {
     "name": "stdout",
     "output_type": "stream",
     "text": [
      "tensor([[[[ 0.0667,  0.0000,  0.1419,  0.0000, -0.0000],\n",
      "          [ 0.1489,  0.0000, -0.0071,  0.0000,  0.0000],\n",
      "          [ 0.0000,  0.0485,  0.1004, -0.0234,  0.0819],\n",
      "          [-0.0163, -0.0198, -0.0569, -0.1769, -0.1567],\n",
      "          [-0.1167,  0.0000, -0.0000, -0.1726, -0.0213]]],\n",
      "\n",
      "\n",
      "        [[[-0.0000,  0.0000, -0.1796, -0.1655, -0.0000],\n",
      "          [ 0.0000,  0.1568,  0.0000, -0.0000,  0.0276],\n",
      "          [-0.1481,  0.1420,  0.0000, -0.0000,  0.1882],\n",
      "          [ 0.1435, -0.0000,  0.1197,  0.0508,  0.1661],\n",
      "          [-0.0524, -0.0000,  0.0000,  0.1284, -0.1527]]],\n",
      "\n",
      "\n",
      "        [[[-0.0000, -0.1946, -0.1383,  0.0648, -0.1407],\n",
      "          [-0.0000, -0.0000,  0.0697,  0.0737, -0.0000],\n",
      "          [-0.0069,  0.0570,  0.0786, -0.0604,  0.0000],\n",
      "          [ 0.0857,  0.1504,  0.0000, -0.1069, -0.1769],\n",
      "          [ 0.0000, -0.0036,  0.1420, -0.0533, -0.0329]]],\n",
      "\n",
      "\n",
      "        [[[ 0.0000, -0.0125, -0.0613,  0.0719,  0.0000],\n",
      "          [ 0.1186,  0.0125,  0.0843,  0.0000,  0.0000],\n",
      "          [-0.0193, -0.0000,  0.0331,  0.1121,  0.0949],\n",
      "          [-0.0973,  0.1125,  0.0963,  0.1036,  0.1774],\n",
      "          [ 0.0810, -0.1515,  0.1990,  0.0000,  0.0000]]],\n",
      "\n",
      "\n",
      "        [[[ 0.0000,  0.1470, -0.0000, -0.1067, -0.1905],\n",
      "          [-0.0000, -0.0629, -0.1679,  0.1519, -0.0074],\n",
      "          [ 0.0901,  0.1827, -0.1774, -0.0780, -0.1945],\n",
      "          [-0.0958,  0.0545,  0.1505,  0.0000, -0.0000],\n",
      "          [ 0.0000,  0.1622,  0.1717,  0.0000,  0.1551]]],\n",
      "\n",
      "\n",
      "        [[[-0.0000,  0.0739, -0.1253,  0.0042, -0.1580],\n",
      "          [-0.0897,  0.1489, -0.0174,  0.0000, -0.1702],\n",
      "          [ 0.0377, -0.0795, -0.0000,  0.1534,  0.1082],\n",
      "          [-0.1959,  0.0158, -0.1671,  0.0000,  0.0747],\n",
      "          [ 0.0437, -0.1481, -0.0477,  0.1064,  0.1140]]]], device='cuda:0',\n",
      "       grad_fn=<MulBackward0>)\n"
     ]
    }
   ],
   "source": [
    "print(module.weight)"
   ]
  },
  {
   "cell_type": "code",
   "execution_count": 12,
   "metadata": {},
   "outputs": [
    {
     "name": "stdout",
     "output_type": "stream",
     "text": [
      "OrderedDict([(0, <torch.nn.utils.prune.RandomUnstructured object at 0x7f042c15af20>)])\n"
     ]
    }
   ],
   "source": [
    "print(module._forward_pre_hooks)"
   ]
  },
  {
   "cell_type": "code",
   "execution_count": 13,
   "metadata": {},
   "outputs": [
    {
     "data": {
      "text/plain": [
       "Conv2d(1, 6, kernel_size=(5, 5), stride=(1, 1))"
      ]
     },
     "execution_count": 13,
     "metadata": {},
     "output_type": "execute_result"
    }
   ],
   "source": [
    "prune.l1_unstructured(module, name=\"bias\", amount=3)"
   ]
  },
  {
   "cell_type": "code",
   "execution_count": 14,
   "metadata": {},
   "outputs": [
    {
     "name": "stdout",
     "output_type": "stream",
     "text": [
      "[('weight_orig', Parameter containing:\n",
      "tensor([[[[ 0.0667,  0.0357,  0.1419,  0.1640, -0.1120],\n",
      "          [ 0.1489,  0.0517, -0.0071,  0.1824,  0.1067],\n",
      "          [ 0.0764,  0.0485,  0.1004, -0.0234,  0.0819],\n",
      "          [-0.0163, -0.0198, -0.0569, -0.1769, -0.1567],\n",
      "          [-0.1167,  0.0235, -0.0667, -0.1726, -0.0213]]],\n",
      "\n",
      "\n",
      "        [[[-0.0787,  0.1017, -0.1796, -0.1655, -0.0449],\n",
      "          [ 0.0863,  0.1568,  0.0179, -0.1810,  0.0276],\n",
      "          [-0.1481,  0.1420,  0.1565, -0.0609,  0.1882],\n",
      "          [ 0.1435, -0.1081,  0.1197,  0.0508,  0.1661],\n",
      "          [-0.0524, -0.1547,  0.1597,  0.1284, -0.1527]]],\n",
      "\n",
      "\n",
      "        [[[-0.1017, -0.1946, -0.1383,  0.0648, -0.1407],\n",
      "          [-0.1090, -0.0511,  0.0697,  0.0737, -0.0771],\n",
      "          [-0.0069,  0.0570,  0.0786, -0.0604,  0.1978],\n",
      "          [ 0.0857,  0.1504,  0.0641, -0.1069, -0.1769],\n",
      "          [ 0.0969, -0.0036,  0.1420, -0.0533, -0.0329]]],\n",
      "\n",
      "\n",
      "        [[[ 0.1524, -0.0125, -0.0613,  0.0719,  0.0128],\n",
      "          [ 0.1186,  0.0125,  0.0843,  0.1034,  0.1953],\n",
      "          [-0.0193, -0.1401,  0.0331,  0.1121,  0.0949],\n",
      "          [-0.0973,  0.1125,  0.0963,  0.1036,  0.1774],\n",
      "          [ 0.0810, -0.1515,  0.1990,  0.0416,  0.0318]]],\n",
      "\n",
      "\n",
      "        [[[ 0.1599,  0.1470, -0.1594, -0.1067, -0.1905],\n",
      "          [-0.1696, -0.0629, -0.1679,  0.1519, -0.0074],\n",
      "          [ 0.0901,  0.1827, -0.1774, -0.0780, -0.1945],\n",
      "          [-0.0958,  0.0545,  0.1505,  0.1553, -0.0920],\n",
      "          [ 0.1562,  0.1622,  0.1717,  0.1908,  0.1551]]],\n",
      "\n",
      "\n",
      "        [[[-0.1611,  0.0739, -0.1253,  0.0042, -0.1580],\n",
      "          [-0.0897,  0.1489, -0.0174,  0.0270, -0.1702],\n",
      "          [ 0.0377, -0.0795, -0.1960,  0.1534,  0.1082],\n",
      "          [-0.1959,  0.0158, -0.1671,  0.1609,  0.0747],\n",
      "          [ 0.0437, -0.1481, -0.0477,  0.1064,  0.1140]]]], device='cuda:0',\n",
      "       requires_grad=True)), ('bias_orig', Parameter containing:\n",
      "tensor([ 0.0722,  0.0131,  0.0242, -0.1499, -0.1643,  0.0177], device='cuda:0',\n",
      "       requires_grad=True))]\n"
     ]
    }
   ],
   "source": [
    "print(list(module.named_parameters()))"
   ]
  },
  {
   "cell_type": "code",
   "execution_count": 15,
   "metadata": {},
   "outputs": [
    {
     "name": "stdout",
     "output_type": "stream",
     "text": [
      "[('weight_mask', tensor([[[[1., 0., 1., 0., 0.],\n",
      "          [1., 0., 1., 0., 0.],\n",
      "          [0., 1., 1., 1., 1.],\n",
      "          [1., 1., 1., 1., 1.],\n",
      "          [1., 0., 0., 1., 1.]]],\n",
      "\n",
      "\n",
      "        [[[0., 0., 1., 1., 0.],\n",
      "          [0., 1., 0., 0., 1.],\n",
      "          [1., 1., 0., 0., 1.],\n",
      "          [1., 0., 1., 1., 1.],\n",
      "          [1., 0., 0., 1., 1.]]],\n",
      "\n",
      "\n",
      "        [[[0., 1., 1., 1., 1.],\n",
      "          [0., 0., 1., 1., 0.],\n",
      "          [1., 1., 1., 1., 0.],\n",
      "          [1., 1., 0., 1., 1.],\n",
      "          [0., 1., 1., 1., 1.]]],\n",
      "\n",
      "\n",
      "        [[[0., 1., 1., 1., 0.],\n",
      "          [1., 1., 1., 0., 0.],\n",
      "          [1., 0., 1., 1., 1.],\n",
      "          [1., 1., 1., 1., 1.],\n",
      "          [1., 1., 1., 0., 0.]]],\n",
      "\n",
      "\n",
      "        [[[0., 1., 0., 1., 1.],\n",
      "          [0., 1., 1., 1., 1.],\n",
      "          [1., 1., 1., 1., 1.],\n",
      "          [1., 1., 1., 0., 0.],\n",
      "          [0., 1., 1., 0., 1.]]],\n",
      "\n",
      "\n",
      "        [[[0., 1., 1., 1., 1.],\n",
      "          [1., 1., 1., 0., 1.],\n",
      "          [1., 1., 0., 1., 1.],\n",
      "          [1., 1., 1., 0., 1.],\n",
      "          [1., 1., 1., 1., 1.]]]], device='cuda:0')), ('bias_mask', tensor([1., 0., 0., 1., 1., 0.], device='cuda:0'))]\n"
     ]
    }
   ],
   "source": [
    "print(list(module.named_buffers()))"
   ]
  },
  {
   "cell_type": "code",
   "execution_count": 16,
   "metadata": {},
   "outputs": [
    {
     "name": "stdout",
     "output_type": "stream",
     "text": [
      "tensor([ 0.0722,  0.0000,  0.0000, -0.1499, -0.1643,  0.0000], device='cuda:0',\n",
      "       grad_fn=<MulBackward0>)\n"
     ]
    }
   ],
   "source": [
    "print(module.bias)"
   ]
  },
  {
   "cell_type": "code",
   "execution_count": 17,
   "metadata": {},
   "outputs": [
    {
     "name": "stdout",
     "output_type": "stream",
     "text": [
      "OrderedDict([(0, <torch.nn.utils.prune.RandomUnstructured object at 0x7f042c15af20>), (1, <torch.nn.utils.prune.L1Unstructured object at 0x7f042c159720>)])\n"
     ]
    }
   ],
   "source": [
    "print(module._forward_pre_hooks)"
   ]
  },
  {
   "cell_type": "code",
   "execution_count": 18,
   "metadata": {},
   "outputs": [
    {
     "name": "stdout",
     "output_type": "stream",
     "text": [
      "tensor([[[[ 0.0000,  0.0000,  0.0000,  0.0000, -0.0000],\n",
      "          [ 0.0000,  0.0000, -0.0000,  0.0000,  0.0000],\n",
      "          [ 0.0000,  0.0000,  0.0000, -0.0000,  0.0000],\n",
      "          [-0.0000, -0.0000, -0.0000, -0.0000, -0.0000],\n",
      "          [-0.0000,  0.0000, -0.0000, -0.0000, -0.0000]]],\n",
      "\n",
      "\n",
      "        [[[-0.0000,  0.0000, -0.1796, -0.1655, -0.0000],\n",
      "          [ 0.0000,  0.1568,  0.0000, -0.0000,  0.0276],\n",
      "          [-0.1481,  0.1420,  0.0000, -0.0000,  0.1882],\n",
      "          [ 0.1435, -0.0000,  0.1197,  0.0508,  0.1661],\n",
      "          [-0.0524, -0.0000,  0.0000,  0.1284, -0.1527]]],\n",
      "\n",
      "\n",
      "        [[[-0.0000, -0.0000, -0.0000,  0.0000, -0.0000],\n",
      "          [-0.0000, -0.0000,  0.0000,  0.0000, -0.0000],\n",
      "          [-0.0000,  0.0000,  0.0000, -0.0000,  0.0000],\n",
      "          [ 0.0000,  0.0000,  0.0000, -0.0000, -0.0000],\n",
      "          [ 0.0000, -0.0000,  0.0000, -0.0000, -0.0000]]],\n",
      "\n",
      "\n",
      "        [[[ 0.0000, -0.0000, -0.0000,  0.0000,  0.0000],\n",
      "          [ 0.0000,  0.0000,  0.0000,  0.0000,  0.0000],\n",
      "          [-0.0000, -0.0000,  0.0000,  0.0000,  0.0000],\n",
      "          [-0.0000,  0.0000,  0.0000,  0.0000,  0.0000],\n",
      "          [ 0.0000, -0.0000,  0.0000,  0.0000,  0.0000]]],\n",
      "\n",
      "\n",
      "        [[[ 0.0000,  0.1470, -0.0000, -0.1067, -0.1905],\n",
      "          [-0.0000, -0.0629, -0.1679,  0.1519, -0.0074],\n",
      "          [ 0.0901,  0.1827, -0.1774, -0.0780, -0.1945],\n",
      "          [-0.0958,  0.0545,  0.1505,  0.0000, -0.0000],\n",
      "          [ 0.0000,  0.1622,  0.1717,  0.0000,  0.1551]]],\n",
      "\n",
      "\n",
      "        [[[-0.0000,  0.0739, -0.1253,  0.0042, -0.1580],\n",
      "          [-0.0897,  0.1489, -0.0174,  0.0000, -0.1702],\n",
      "          [ 0.0377, -0.0795, -0.0000,  0.1534,  0.1082],\n",
      "          [-0.1959,  0.0158, -0.1671,  0.0000,  0.0747],\n",
      "          [ 0.0437, -0.1481, -0.0477,  0.1064,  0.1140]]]], device='cuda:0',\n",
      "       grad_fn=<MulBackward0>)\n"
     ]
    }
   ],
   "source": [
    "prune.ln_structured(module, name=\"weight\", amount=0.5, n=2, dim=0)\n",
    "\n",
    "# As we can verify, this will zero out all the connections corresponding to\n",
    "# 50% (3 out of 6) of the channels, while preserving the action of the\n",
    "# previous mask.\n",
    "print(module.weight)"
   ]
  },
  {
   "cell_type": "code",
   "execution_count": 19,
   "metadata": {},
   "outputs": [
    {
     "name": "stdout",
     "output_type": "stream",
     "text": [
      "[<torch.nn.utils.prune.RandomUnstructured object at 0x7f042c15af20>, <torch.nn.utils.prune.LnStructured object at 0x7f042c1596c0>]\n"
     ]
    }
   ],
   "source": [
    "for hook in module._forward_pre_hooks.values():\n",
    "    if hook._tensor_name == \"weight\":  # select out the correct hook\n",
    "        break\n",
    "\n",
    "print(list(hook))  # pruning history in the container"
   ]
  },
  {
   "cell_type": "code",
   "execution_count": 20,
   "metadata": {},
   "outputs": [
    {
     "name": "stdout",
     "output_type": "stream",
     "text": [
      "odict_keys(['conv1.weight_orig', 'conv1.bias_orig', 'conv1.weight_mask', 'conv1.bias_mask', 'conv2.weight', 'conv2.bias', 'fc1.weight', 'fc1.bias', 'fc2.weight', 'fc2.bias', 'fc3.weight', 'fc3.bias'])\n"
     ]
    }
   ],
   "source": [
    "print(model.state_dict().keys())"
   ]
  },
  {
   "cell_type": "code",
   "execution_count": 21,
   "metadata": {},
   "outputs": [
    {
     "name": "stdout",
     "output_type": "stream",
     "text": [
      "[('weight_orig', Parameter containing:\n",
      "tensor([[[[ 0.0667,  0.0357,  0.1419,  0.1640, -0.1120],\n",
      "          [ 0.1489,  0.0517, -0.0071,  0.1824,  0.1067],\n",
      "          [ 0.0764,  0.0485,  0.1004, -0.0234,  0.0819],\n",
      "          [-0.0163, -0.0198, -0.0569, -0.1769, -0.1567],\n",
      "          [-0.1167,  0.0235, -0.0667, -0.1726, -0.0213]]],\n",
      "\n",
      "\n",
      "        [[[-0.0787,  0.1017, -0.1796, -0.1655, -0.0449],\n",
      "          [ 0.0863,  0.1568,  0.0179, -0.1810,  0.0276],\n",
      "          [-0.1481,  0.1420,  0.1565, -0.0609,  0.1882],\n",
      "          [ 0.1435, -0.1081,  0.1197,  0.0508,  0.1661],\n",
      "          [-0.0524, -0.1547,  0.1597,  0.1284, -0.1527]]],\n",
      "\n",
      "\n",
      "        [[[-0.1017, -0.1946, -0.1383,  0.0648, -0.1407],\n",
      "          [-0.1090, -0.0511,  0.0697,  0.0737, -0.0771],\n",
      "          [-0.0069,  0.0570,  0.0786, -0.0604,  0.1978],\n",
      "          [ 0.0857,  0.1504,  0.0641, -0.1069, -0.1769],\n",
      "          [ 0.0969, -0.0036,  0.1420, -0.0533, -0.0329]]],\n",
      "\n",
      "\n",
      "        [[[ 0.1524, -0.0125, -0.0613,  0.0719,  0.0128],\n",
      "          [ 0.1186,  0.0125,  0.0843,  0.1034,  0.1953],\n",
      "          [-0.0193, -0.1401,  0.0331,  0.1121,  0.0949],\n",
      "          [-0.0973,  0.1125,  0.0963,  0.1036,  0.1774],\n",
      "          [ 0.0810, -0.1515,  0.1990,  0.0416,  0.0318]]],\n",
      "\n",
      "\n",
      "        [[[ 0.1599,  0.1470, -0.1594, -0.1067, -0.1905],\n",
      "          [-0.1696, -0.0629, -0.1679,  0.1519, -0.0074],\n",
      "          [ 0.0901,  0.1827, -0.1774, -0.0780, -0.1945],\n",
      "          [-0.0958,  0.0545,  0.1505,  0.1553, -0.0920],\n",
      "          [ 0.1562,  0.1622,  0.1717,  0.1908,  0.1551]]],\n",
      "\n",
      "\n",
      "        [[[-0.1611,  0.0739, -0.1253,  0.0042, -0.1580],\n",
      "          [-0.0897,  0.1489, -0.0174,  0.0270, -0.1702],\n",
      "          [ 0.0377, -0.0795, -0.1960,  0.1534,  0.1082],\n",
      "          [-0.1959,  0.0158, -0.1671,  0.1609,  0.0747],\n",
      "          [ 0.0437, -0.1481, -0.0477,  0.1064,  0.1140]]]], device='cuda:0',\n",
      "       requires_grad=True)), ('bias_orig', Parameter containing:\n",
      "tensor([ 0.0722,  0.0131,  0.0242, -0.1499, -0.1643,  0.0177], device='cuda:0',\n",
      "       requires_grad=True))]\n"
     ]
    }
   ],
   "source": [
    "print(list(module.named_parameters()))"
   ]
  },
  {
   "cell_type": "code",
   "execution_count": 22,
   "metadata": {},
   "outputs": [
    {
     "name": "stdout",
     "output_type": "stream",
     "text": [
      "[('weight_mask', tensor([[[[0., 0., 0., 0., 0.],\n",
      "          [0., 0., 0., 0., 0.],\n",
      "          [0., 0., 0., 0., 0.],\n",
      "          [0., 0., 0., 0., 0.],\n",
      "          [0., 0., 0., 0., 0.]]],\n",
      "\n",
      "\n",
      "        [[[0., 0., 1., 1., 0.],\n",
      "          [0., 1., 0., 0., 1.],\n",
      "          [1., 1., 0., 0., 1.],\n",
      "          [1., 0., 1., 1., 1.],\n",
      "          [1., 0., 0., 1., 1.]]],\n",
      "\n",
      "\n",
      "        [[[0., 0., 0., 0., 0.],\n",
      "          [0., 0., 0., 0., 0.],\n",
      "          [0., 0., 0., 0., 0.],\n",
      "          [0., 0., 0., 0., 0.],\n",
      "          [0., 0., 0., 0., 0.]]],\n",
      "\n",
      "\n",
      "        [[[0., 0., 0., 0., 0.],\n",
      "          [0., 0., 0., 0., 0.],\n",
      "          [0., 0., 0., 0., 0.],\n",
      "          [0., 0., 0., 0., 0.],\n",
      "          [0., 0., 0., 0., 0.]]],\n",
      "\n",
      "\n",
      "        [[[0., 1., 0., 1., 1.],\n",
      "          [0., 1., 1., 1., 1.],\n",
      "          [1., 1., 1., 1., 1.],\n",
      "          [1., 1., 1., 0., 0.],\n",
      "          [0., 1., 1., 0., 1.]]],\n",
      "\n",
      "\n",
      "        [[[0., 1., 1., 1., 1.],\n",
      "          [1., 1., 1., 0., 1.],\n",
      "          [1., 1., 0., 1., 1.],\n",
      "          [1., 1., 1., 0., 1.],\n",
      "          [1., 1., 1., 1., 1.]]]], device='cuda:0')), ('bias_mask', tensor([1., 0., 0., 1., 1., 0.], device='cuda:0'))]\n"
     ]
    }
   ],
   "source": [
    "    print(list(module.named_buffers()))"
   ]
  },
  {
   "cell_type": "code",
   "execution_count": 23,
   "metadata": {},
   "outputs": [
    {
     "name": "stdout",
     "output_type": "stream",
     "text": [
      "tensor([[[[ 0.0000,  0.0000,  0.0000,  0.0000, -0.0000],\n",
      "          [ 0.0000,  0.0000, -0.0000,  0.0000,  0.0000],\n",
      "          [ 0.0000,  0.0000,  0.0000, -0.0000,  0.0000],\n",
      "          [-0.0000, -0.0000, -0.0000, -0.0000, -0.0000],\n",
      "          [-0.0000,  0.0000, -0.0000, -0.0000, -0.0000]]],\n",
      "\n",
      "\n",
      "        [[[-0.0000,  0.0000, -0.1796, -0.1655, -0.0000],\n",
      "          [ 0.0000,  0.1568,  0.0000, -0.0000,  0.0276],\n",
      "          [-0.1481,  0.1420,  0.0000, -0.0000,  0.1882],\n",
      "          [ 0.1435, -0.0000,  0.1197,  0.0508,  0.1661],\n",
      "          [-0.0524, -0.0000,  0.0000,  0.1284, -0.1527]]],\n",
      "\n",
      "\n",
      "        [[[-0.0000, -0.0000, -0.0000,  0.0000, -0.0000],\n",
      "          [-0.0000, -0.0000,  0.0000,  0.0000, -0.0000],\n",
      "          [-0.0000,  0.0000,  0.0000, -0.0000,  0.0000],\n",
      "          [ 0.0000,  0.0000,  0.0000, -0.0000, -0.0000],\n",
      "          [ 0.0000, -0.0000,  0.0000, -0.0000, -0.0000]]],\n",
      "\n",
      "\n",
      "        [[[ 0.0000, -0.0000, -0.0000,  0.0000,  0.0000],\n",
      "          [ 0.0000,  0.0000,  0.0000,  0.0000,  0.0000],\n",
      "          [-0.0000, -0.0000,  0.0000,  0.0000,  0.0000],\n",
      "          [-0.0000,  0.0000,  0.0000,  0.0000,  0.0000],\n",
      "          [ 0.0000, -0.0000,  0.0000,  0.0000,  0.0000]]],\n",
      "\n",
      "\n",
      "        [[[ 0.0000,  0.1470, -0.0000, -0.1067, -0.1905],\n",
      "          [-0.0000, -0.0629, -0.1679,  0.1519, -0.0074],\n",
      "          [ 0.0901,  0.1827, -0.1774, -0.0780, -0.1945],\n",
      "          [-0.0958,  0.0545,  0.1505,  0.0000, -0.0000],\n",
      "          [ 0.0000,  0.1622,  0.1717,  0.0000,  0.1551]]],\n",
      "\n",
      "\n",
      "        [[[-0.0000,  0.0739, -0.1253,  0.0042, -0.1580],\n",
      "          [-0.0897,  0.1489, -0.0174,  0.0000, -0.1702],\n",
      "          [ 0.0377, -0.0795, -0.0000,  0.1534,  0.1082],\n",
      "          [-0.1959,  0.0158, -0.1671,  0.0000,  0.0747],\n",
      "          [ 0.0437, -0.1481, -0.0477,  0.1064,  0.1140]]]], device='cuda:0',\n",
      "       grad_fn=<MulBackward0>)\n"
     ]
    }
   ],
   "source": [
    "print(module.weight)"
   ]
  },
  {
   "cell_type": "code",
   "execution_count": 24,
   "metadata": {},
   "outputs": [
    {
     "name": "stdout",
     "output_type": "stream",
     "text": [
      "[('bias_orig', Parameter containing:\n",
      "tensor([ 0.0722,  0.0131,  0.0242, -0.1499, -0.1643,  0.0177], device='cuda:0',\n",
      "       requires_grad=True)), ('weight', Parameter containing:\n",
      "tensor([[[[ 0.0000,  0.0000,  0.0000,  0.0000, -0.0000],\n",
      "          [ 0.0000,  0.0000, -0.0000,  0.0000,  0.0000],\n",
      "          [ 0.0000,  0.0000,  0.0000, -0.0000,  0.0000],\n",
      "          [-0.0000, -0.0000, -0.0000, -0.0000, -0.0000],\n",
      "          [-0.0000,  0.0000, -0.0000, -0.0000, -0.0000]]],\n",
      "\n",
      "\n",
      "        [[[-0.0000,  0.0000, -0.1796, -0.1655, -0.0000],\n",
      "          [ 0.0000,  0.1568,  0.0000, -0.0000,  0.0276],\n",
      "          [-0.1481,  0.1420,  0.0000, -0.0000,  0.1882],\n",
      "          [ 0.1435, -0.0000,  0.1197,  0.0508,  0.1661],\n",
      "          [-0.0524, -0.0000,  0.0000,  0.1284, -0.1527]]],\n",
      "\n",
      "\n",
      "        [[[-0.0000, -0.0000, -0.0000,  0.0000, -0.0000],\n",
      "          [-0.0000, -0.0000,  0.0000,  0.0000, -0.0000],\n",
      "          [-0.0000,  0.0000,  0.0000, -0.0000,  0.0000],\n",
      "          [ 0.0000,  0.0000,  0.0000, -0.0000, -0.0000],\n",
      "          [ 0.0000, -0.0000,  0.0000, -0.0000, -0.0000]]],\n",
      "\n",
      "\n",
      "        [[[ 0.0000, -0.0000, -0.0000,  0.0000,  0.0000],\n",
      "          [ 0.0000,  0.0000,  0.0000,  0.0000,  0.0000],\n",
      "          [-0.0000, -0.0000,  0.0000,  0.0000,  0.0000],\n",
      "          [-0.0000,  0.0000,  0.0000,  0.0000,  0.0000],\n",
      "          [ 0.0000, -0.0000,  0.0000,  0.0000,  0.0000]]],\n",
      "\n",
      "\n",
      "        [[[ 0.0000,  0.1470, -0.0000, -0.1067, -0.1905],\n",
      "          [-0.0000, -0.0629, -0.1679,  0.1519, -0.0074],\n",
      "          [ 0.0901,  0.1827, -0.1774, -0.0780, -0.1945],\n",
      "          [-0.0958,  0.0545,  0.1505,  0.0000, -0.0000],\n",
      "          [ 0.0000,  0.1622,  0.1717,  0.0000,  0.1551]]],\n",
      "\n",
      "\n",
      "        [[[-0.0000,  0.0739, -0.1253,  0.0042, -0.1580],\n",
      "          [-0.0897,  0.1489, -0.0174,  0.0000, -0.1702],\n",
      "          [ 0.0377, -0.0795, -0.0000,  0.1534,  0.1082],\n",
      "          [-0.1959,  0.0158, -0.1671,  0.0000,  0.0747],\n",
      "          [ 0.0437, -0.1481, -0.0477,  0.1064,  0.1140]]]], device='cuda:0',\n",
      "       requires_grad=True))]\n"
     ]
    }
   ],
   "source": [
    "prune.remove(module, 'weight')\n",
    "print(list(module.named_parameters()))"
   ]
  },
  {
   "cell_type": "code",
   "execution_count": 25,
   "metadata": {},
   "outputs": [
    {
     "name": "stdout",
     "output_type": "stream",
     "text": [
      "[('bias_mask', tensor([1., 0., 0., 1., 1., 0.], device='cuda:0'))]\n"
     ]
    }
   ],
   "source": [
    "print(list(module.named_buffers()))"
   ]
  },
  {
   "cell_type": "code",
   "execution_count": 26,
   "metadata": {},
   "outputs": [
    {
     "name": "stdout",
     "output_type": "stream",
     "text": [
      "dict_keys(['conv1.weight_mask', 'conv2.weight_mask', 'fc1.weight_mask', 'fc2.weight_mask', 'fc3.weight_mask'])\n"
     ]
    }
   ],
   "source": [
    "new_model = LeNet()\n",
    "for name, module in new_model.named_modules():\n",
    "    # prune 20% of connections in all 2D-conv layers\n",
    "    if isinstance(module, torch.nn.Conv2d):\n",
    "        prune.l1_unstructured(module, name='weight', amount=0.2)\n",
    "    # prune 40% of connections in all linear layers\n",
    "    elif isinstance(module, torch.nn.Linear):\n",
    "        prune.l1_unstructured(module, name='weight', amount=0.4)\n",
    "\n",
    "print(dict(new_model.named_buffers()).keys())  # to verify that all masks exist"
   ]
  },
  {
   "cell_type": "code",
   "execution_count": 27,
   "metadata": {},
   "outputs": [],
   "source": [
    "model = LeNet()\n",
    "\n",
    "parameters_to_prune = (\n",
    "    (model.conv1, 'weight'),\n",
    "    (model.conv2, 'weight'),\n",
    "    (model.fc1, 'weight'),\n",
    "    (model.fc2, 'weight'),\n",
    "    (model.fc3, 'weight'),\n",
    ")\n",
    "\n",
    "prune.global_unstructured(\n",
    "    parameters_to_prune,\n",
    "    pruning_method=prune.L1Unstructured,\n",
    "    amount=0.2,\n",
    ")"
   ]
  },
  {
   "cell_type": "code",
   "execution_count": 28,
   "metadata": {},
   "outputs": [
    {
     "name": "stdout",
     "output_type": "stream",
     "text": [
      "Sparsity in conv1.weight: 7.33%\n",
      "Sparsity in conv2.weight: 12.79%\n",
      "Sparsity in fc1.weight: 22.20%\n",
      "Sparsity in fc2.weight: 12.34%\n",
      "Sparsity in fc3.weight: 9.05%\n",
      "Global sparsity: 20.00%\n"
     ]
    }
   ],
   "source": [
    "print(\n",
    "    \"Sparsity in conv1.weight: {:.2f}%\".format(\n",
    "        100. * float(torch.sum(model.conv1.weight == 0))\n",
    "        / float(model.conv1.weight.nelement())\n",
    "    )\n",
    ")\n",
    "print(\n",
    "    \"Sparsity in conv2.weight: {:.2f}%\".format(\n",
    "        100. * float(torch.sum(model.conv2.weight == 0))\n",
    "        / float(model.conv2.weight.nelement())\n",
    "    )\n",
    ")\n",
    "print(\n",
    "    \"Sparsity in fc1.weight: {:.2f}%\".format(\n",
    "        100. * float(torch.sum(model.fc1.weight == 0))\n",
    "        / float(model.fc1.weight.nelement())\n",
    "    )\n",
    ")\n",
    "print(\n",
    "    \"Sparsity in fc2.weight: {:.2f}%\".format(\n",
    "        100. * float(torch.sum(model.fc2.weight == 0))\n",
    "        / float(model.fc2.weight.nelement())\n",
    "    )\n",
    ")\n",
    "print(\n",
    "    \"Sparsity in fc3.weight: {:.2f}%\".format(\n",
    "        100. * float(torch.sum(model.fc3.weight == 0))\n",
    "        / float(model.fc3.weight.nelement())\n",
    "    )\n",
    ")\n",
    "print(\n",
    "    \"Global sparsity: {:.2f}%\".format(\n",
    "        100. * float(\n",
    "            torch.sum(model.conv1.weight == 0)\n",
    "            + torch.sum(model.conv2.weight == 0)\n",
    "            + torch.sum(model.fc1.weight == 0)\n",
    "            + torch.sum(model.fc2.weight == 0)\n",
    "            + torch.sum(model.fc3.weight == 0)\n",
    "        )\n",
    "        / float(\n",
    "            model.conv1.weight.nelement()\n",
    "            + model.conv2.weight.nelement()\n",
    "            + model.fc1.weight.nelement()\n",
    "            + model.fc2.weight.nelement()\n",
    "            + model.fc3.weight.nelement()\n",
    "        )\n",
    "    )\n",
    ")"
   ]
  },
  {
   "cell_type": "code",
   "execution_count": 29,
   "metadata": {},
   "outputs": [],
   "source": [
    "class FooBarPruningMethod(prune.BasePruningMethod):\n",
    "    \"\"\"Prune every other entry in a tensor\n",
    "    \"\"\"\n",
    "    PRUNING_TYPE = 'unstructured'\n",
    "\n",
    "    def compute_mask(self, t, default_mask):\n",
    "        mask = default_mask.clone()\n",
    "        mask.view(-1)[::2] = 0\n",
    "        return mask"
   ]
  },
  {
   "cell_type": "code",
   "execution_count": 30,
   "metadata": {},
   "outputs": [],
   "source": [
    "def foobar_unstructured(module, name):\n",
    "    \"\"\"Prunes tensor corresponding to parameter called `name` in `module`\n",
    "    by removing every other entry in the tensors.\n",
    "    Modifies module in place (and also return the modified module)\n",
    "    by:\n",
    "    1) adding a named buffer called `name+'_mask'` corresponding to the\n",
    "    binary mask applied to the parameter `name` by the pruning method.\n",
    "    The parameter `name` is replaced by its pruned version, while the\n",
    "    original (unpruned) parameter is stored in a new parameter named\n",
    "    `name+'_orig'`.\n",
    "\n",
    "    Args:\n",
    "        module (nn.Module): module containing the tensor to prune\n",
    "        name (string): parameter name within `module` on which pruning\n",
    "                will act.\n",
    "\n",
    "    Returns:\n",
    "        module (nn.Module): modified (i.e. pruned) version of the input\n",
    "            module\n",
    "\n",
    "    Examples:\n",
    "        >>> m = nn.Linear(3, 4)\n",
    "        >>> foobar_unstructured(m, name='bias')\n",
    "    \"\"\"\n",
    "    FooBarPruningMethod.apply(module, name)\n",
    "    return module"
   ]
  },
  {
   "cell_type": "code",
   "execution_count": 31,
   "metadata": {},
   "outputs": [
    {
     "name": "stdout",
     "output_type": "stream",
     "text": [
      "tensor([0., 1., 0., 1., 0., 1., 0., 1., 0., 1.])\n"
     ]
    }
   ],
   "source": [
    "model = LeNet()\n",
    "foobar_unstructured(model.fc3, name='bias')\n",
    "\n",
    "print(model.fc3.bias_mask)"
   ]
  }
 ],
 "metadata": {
  "kernelspec": {
   "display_name": "Python 3",
   "language": "python",
   "name": "python3"
  },
  "language_info": {
   "codemirror_mode": {
    "name": "ipython",
    "version": 3
   },
   "file_extension": ".py",
   "mimetype": "text/x-python",
   "name": "python",
   "nbconvert_exporter": "python",
   "pygments_lexer": "ipython3",
   "version": "3.10.12"
  }
 },
 "nbformat": 4,
 "nbformat_minor": 2
}
