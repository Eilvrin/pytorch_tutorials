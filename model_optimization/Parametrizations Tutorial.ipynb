{
 "cells": [
  {
   "cell_type": "code",
   "execution_count": 2,
   "metadata": {},
   "outputs": [],
   "source": [
    "import torch\n",
    "import torch.nn as nn\n",
    "import torch.nn.utils.parametrize as parametrize\n"
   ]
  },
  {
   "cell_type": "code",
   "execution_count": 3,
   "metadata": {},
   "outputs": [
    {
     "name": "stdout",
     "output_type": "stream",
     "text": [
      "tensor([[0.6928, 0.6676, 0.3568],\n",
      "        [0.6676, 0.9464, 0.4415],\n",
      "        [0.3568, 0.4415, 0.1418]])\n"
     ]
    }
   ],
   "source": [
    "def symmetric(X):\n",
    "    return X.triu() + X.triu(1).transpose(-1, -2)\n",
    "\n",
    "X = torch.rand(3, 3)\n",
    "A = symmetric(X)\n",
    "assert torch.allclose(A, A.T)\n",
    "print(A)\n"
   ]
  },
  {
   "cell_type": "code",
   "execution_count": 4,
   "metadata": {},
   "outputs": [],
   "source": [
    "class LinearSymmetric(nn.Module):\n",
    "    def __init__(self, n_features):\n",
    "        super().__init__()\n",
    "        self.weight = nn.Parameter(torch.rand(n_features, n_features))\n",
    "    \n",
    "    def forward(self, x):\n",
    "        A = symmetric(self.weight)\n",
    "        return x @ A"
   ]
  },
  {
   "cell_type": "code",
   "execution_count": 13,
   "metadata": {},
   "outputs": [],
   "source": [
    "layer = LinearSymmetric(3)\n",
    "out = layer(torch.rand(8,3))"
   ]
  },
  {
   "cell_type": "code",
   "execution_count": 14,
   "metadata": {},
   "outputs": [],
   "source": [
    "class Symmetric(nn.Module):\n",
    "    def forward(self, X):\n",
    "        return X.triu() + X.triu(1).transpose(-1, -2)"
   ]
  },
  {
   "cell_type": "code",
   "execution_count": 15,
   "metadata": {},
   "outputs": [
    {
     "data": {
      "text/plain": [
       "ParametrizedLinear(\n",
       "  in_features=3, out_features=3, bias=True\n",
       "  (parametrizations): ModuleDict(\n",
       "    (weight): ParametrizationList(\n",
       "      (0): Symmetric()\n",
       "    )\n",
       "  )\n",
       ")"
      ]
     },
     "execution_count": 15,
     "metadata": {},
     "output_type": "execute_result"
    }
   ],
   "source": [
    "layer = nn.Linear(3, 3)\n",
    "parametrize.register_parametrization(layer, \"weight\", Symmetric())"
   ]
  },
  {
   "cell_type": "code",
   "execution_count": 16,
   "metadata": {},
   "outputs": [
    {
     "name": "stdout",
     "output_type": "stream",
     "text": [
      "tensor([[ 0.0837,  0.1981, -0.1527],\n",
      "        [ 0.1981, -0.0275, -0.2829],\n",
      "        [-0.1527, -0.2829,  0.4862]], grad_fn=<AddBackward0>)\n"
     ]
    }
   ],
   "source": [
    "A = layer.weight\n",
    "assert torch.allclose(A, A.T)\n",
    "print(A)"
   ]
  },
  {
   "cell_type": "code",
   "execution_count": 17,
   "metadata": {},
   "outputs": [
    {
     "name": "stdout",
     "output_type": "stream",
     "text": [
      "tensor([[ 0.0000, -0.1216,  0.1468],\n",
      "        [ 0.1216,  0.0000, -0.1141],\n",
      "        [-0.1468,  0.1141,  0.0000]], grad_fn=<SelectBackward0>)\n",
      "tensor([[ 0.0000,  0.0427, -0.0385],\n",
      "        [-0.0427,  0.0000, -0.0232],\n",
      "        [ 0.0385,  0.0232,  0.0000]], grad_fn=<SelectBackward0>)\n"
     ]
    }
   ],
   "source": [
    "class Skew(nn.Module):\n",
    "    def forward(self, X):\n",
    "        A = X.triu(1)\n",
    "        return A - A.transpose(-1, -2)\n",
    "    \n",
    "cnn = nn.Conv2d(in_channels=5, out_channels=8, kernel_size=3)\n",
    "parametrize.register_parametrization(cnn, \"weight\", Skew())\n",
    "\n",
    "print(cnn.weight[0, 1])\n",
    "print(cnn.weight[2, 2])\n"
   ]
  },
  {
   "cell_type": "code",
   "execution_count": 18,
   "metadata": {},
   "outputs": [
    {
     "name": "stdout",
     "output_type": "stream",
     "text": [
      "Unparametrized: \n",
      " Linear(in_features=3, out_features=3, bias=True)\n",
      "Parametrized: \n",
      " ParametrizedLinear(\n",
      "  in_features=3, out_features=3, bias=True\n",
      "  (parametrizations): ModuleDict(\n",
      "    (weight): ParametrizationList(\n",
      "      (0): Symmetric()\n",
      "    )\n",
      "  )\n",
      ")\n"
     ]
    }
   ],
   "source": [
    "layer = nn.Linear(3,3)\n",
    "print(f\"Unparametrized: \\n {layer}\")\n",
    "parametrize.register_parametrization(layer, \"weight\", Symmetric())\n",
    "print(f\"Parametrized: \\n {layer}\")\n"
   ]
  },
  {
   "cell_type": "code",
   "execution_count": 19,
   "metadata": {},
   "outputs": [
    {
     "name": "stdout",
     "output_type": "stream",
     "text": [
      "ModuleDict(\n",
      "  (weight): ParametrizationList(\n",
      "    (0): Symmetric()\n",
      "  )\n",
      ")\n",
      "ParametrizationList(\n",
      "  (0): Symmetric()\n",
      ")\n"
     ]
    }
   ],
   "source": [
    "print(layer.parametrizations)\n",
    "print(layer.parametrizations.weight)"
   ]
  },
  {
   "cell_type": "code",
   "execution_count": 20,
   "metadata": {},
   "outputs": [
    {
     "name": "stdout",
     "output_type": "stream",
     "text": [
      "Symmetric()\n"
     ]
    }
   ],
   "source": [
    "print(layer.parametrizations.weight[0])"
   ]
  },
  {
   "cell_type": "code",
   "execution_count": 21,
   "metadata": {},
   "outputs": [
    {
     "name": "stdout",
     "output_type": "stream",
     "text": [
      "{'bias': Parameter containing:\n",
      "tensor([-0.1309, -0.2774,  0.5645], requires_grad=True), 'parametrizations.weight.original': Parameter containing:\n",
      "tensor([[-0.1720, -0.3462, -0.0612],\n",
      "        [-0.1022, -0.3147, -0.2553],\n",
      "        [-0.3584, -0.3606, -0.5419]], requires_grad=True)}\n"
     ]
    }
   ],
   "source": [
    "print(dict(layer.named_parameters()))"
   ]
  },
  {
   "cell_type": "code",
   "execution_count": 22,
   "metadata": {},
   "outputs": [
    {
     "name": "stdout",
     "output_type": "stream",
     "text": [
      "tensor(0., grad_fn=<DistBackward0>)\n"
     ]
    }
   ],
   "source": [
    "symmetric = Symmetric()\n",
    "weight_orig = layer.parametrizations.weight.original\n",
    "print(torch.dist(layer.weight, symmetric(weight_orig)))"
   ]
  },
  {
   "cell_type": "code",
   "execution_count": 23,
   "metadata": {},
   "outputs": [
    {
     "name": "stdout",
     "output_type": "stream",
     "text": [
      "Computing the Parametrization\n",
      "Here, layer.weight is recomputed every time we call it\n",
      "Computing the Parametrization\n",
      "Computing the Parametrization\n",
      "Computing the Parametrization\n",
      "Here, it is computed just the first time layer.weight is called.\n",
      "Computing the Parametrization\n"
     ]
    }
   ],
   "source": [
    "class NoisyParametrization(nn.Module):\n",
    "    def forward(self, X):\n",
    "        print(\"Computing the Parametrization\")\n",
    "        return X\n",
    "\n",
    "layer = nn.Linear(4, 4)\n",
    "parametrize.register_parametrization(layer, \"weight\", NoisyParametrization())\n",
    "print(\"Here, layer.weight is recomputed every time we call it\")\n",
    "foo = layer.weight + layer.weight.T\n",
    "bar = layer.weight.sum()\n",
    "with parametrize.cached():\n",
    "    print(\"Here, it is computed just the first time layer.weight is called.\")\n",
    "    foo = layer.weight + layer.weight.T\n",
    "    bar = layer.weight.sum()"
   ]
  },
  {
   "cell_type": "code",
   "execution_count": 25,
   "metadata": {},
   "outputs": [
    {
     "name": "stdout",
     "output_type": "stream",
     "text": [
      "tensor(1.6859e-07, grad_fn=<DistBackward0>)\n"
     ]
    }
   ],
   "source": [
    "class CayleyMap(nn.Module):\n",
    "    def __init__(self, n):\n",
    "        super().__init__()\n",
    "        self.register_buffer(\"Id\", torch.eye(n))\n",
    "    \n",
    "    def forward(self, X):\n",
    "        # (I + X)(I - X)^{-1}\n",
    "        return torch.linalg.solve(self.Id - X, self.Id + X)\n",
    "\n",
    "layer = nn.Linear(3,3)\n",
    "parametrize.register_parametrization(layer, \"weight\", Skew())\n",
    "parametrize.register_parametrization(layer, \"weight\", CayleyMap(3))\n",
    "\n",
    "X = layer.weight\n",
    "print(torch.dist(X.T @ X, torch.eye(3)))\n"
   ]
  },
  {
   "cell_type": "code",
   "execution_count": 27,
   "metadata": {},
   "outputs": [
    {
     "name": "stdout",
     "output_type": "stream",
     "text": [
      "tensor(1.9158e-07, grad_fn=<DistBackward0>)\n",
      "tensor(5.2684e-09, grad_fn=<DistBackward0>)\n",
      "tensor(True)\n"
     ]
    }
   ],
   "source": [
    "class MatrixExponential(nn.Module):\n",
    "    def forward(self, X):\n",
    "        return torch.matrix_exp(X)\n",
    "\n",
    "layer_orthogonal = nn.Linear(3, 3)\n",
    "parametrize.register_parametrization(layer_orthogonal, \"weight\", Skew())\n",
    "parametrize.register_parametrization(layer_orthogonal, \"weight\", MatrixExponential())\n",
    "X = layer_orthogonal.weight\n",
    "print(torch.dist(X.T @ X, torch.eye(3)))         # X is orthogonal\n",
    "\n",
    "layer_spd = nn.Linear(3, 3)\n",
    "parametrize.register_parametrization(layer_spd, \"weight\", Symmetric())\n",
    "parametrize.register_parametrization(layer_spd, \"weight\", MatrixExponential())\n",
    "X = layer_spd.weight\n",
    "print(torch.dist(X, X.T))                        # X is symmetric\n",
    "print((torch.linalg.eigvalsh(X) > 0.).all())  # X is positive definite"
   ]
  },
  {
   "cell_type": "code",
   "execution_count": 43,
   "metadata": {},
   "outputs": [],
   "source": [
    "class Skew(nn.Module):\n",
    "    def forward(self, X):\n",
    "        A = X.triu(1)\n",
    "        return A - A.transpose(-1, -2)\n",
    "\n",
    "    def right_inverse(self, A):\n",
    "        # We assume that A is skew-symmetric\n",
    "        # We take the upper-triangular elements, as these are those used in the forward function\n",
    "        return A.triu(1)"
   ]
  },
  {
   "cell_type": "code",
   "execution_count": 44,
   "metadata": {},
   "outputs": [
    {
     "name": "stdout",
     "output_type": "stream",
     "text": [
      "tensor(0., grad_fn=<DistBackward0>)\n"
     ]
    }
   ],
   "source": [
    "layer = nn.Linear(3, 3)\n",
    "parametrize.register_parametrization(layer, \"weight\", Skew())\n",
    "X = torch.rand(3, 3)\n",
    "X = X - X.T                             # X is now skew-symmetric\n",
    "layer.weight = X                        # Initialize layer.weight to be X\n",
    "print(torch.dist(layer.weight, X))      # layer.weight == X"
   ]
  },
  {
   "cell_type": "code",
   "execution_count": 46,
   "metadata": {},
   "outputs": [
    {
     "name": "stdout",
     "output_type": "stream",
     "text": [
      "tensor(1.9122, grad_fn=<DistBackward0>)\n"
     ]
    }
   ],
   "source": [
    "class CayleyMap(nn.Module):\n",
    "    def __init__(self, n):\n",
    "        super().__init__()\n",
    "        self.register_buffer(\"Id\", torch.eye(n))\n",
    "\n",
    "    def forward(self, X):\n",
    "        # Assume X skew-symmetric\n",
    "        # (I + X)(I - X)^{-1}\n",
    "        return torch.linalg.solve(self.Id - X, self.Id + X)\n",
    "\n",
    "    def right_inverse(self, A):\n",
    "        # Assume A orthogonal\n",
    "        # See https://en.wikipedia.org/wiki/Cayley_transform#Matrix_map\n",
    "        # (A - I)(A + I)^{-1}\n",
    "        return torch.linalg.solve(A + self.Id, self.Id - A)\n",
    "\n",
    "layer_orthogonal = nn.Linear(3, 3)\n",
    "parametrize.register_parametrization(layer_orthogonal, \"weight\", Skew())\n",
    "parametrize.register_parametrization(layer_orthogonal, \"weight\", CayleyMap(3))\n",
    "# Sample an orthogonal matrix with positive determinant\n",
    "X = torch.empty(3, 3)\n",
    "nn.init.orthogonal_(X)\n",
    "if X.det() < 0.:\n",
    "    X[0].neg_()\n",
    "layer_orthogonal.weight = X\n",
    "print(torch.dist(layer_orthogonal.weight, X))  # layer_orthogonal.weight == X"
   ]
  },
  {
   "cell_type": "code",
   "execution_count": 47,
   "metadata": {},
   "outputs": [],
   "source": [
    "class PruningParametrization(nn.Module):\n",
    "    def __init__(self, X, p_drop=0.2):\n",
    "        super().__init__()\n",
    "        # sample zeros with probability p_drop\n",
    "        mask = torch.full_like(X, 1.0 - p_drop)\n",
    "        self.mask = torch.bernoulli(mask)\n",
    "\n",
    "    def forward(self, X):\n",
    "        return X * self.mask\n",
    "\n",
    "    def right_inverse(self, A):\n",
    "        return A"
   ]
  },
  {
   "cell_type": "code",
   "execution_count": 55,
   "metadata": {},
   "outputs": [
    {
     "name": "stdout",
     "output_type": "stream",
     "text": [
      "Initialization matrix:\n",
      "tensor([[0.9677, 0.1552, 0.1022],\n",
      "        [0.6760, 0.2348, 0.3606],\n",
      "        [0.8375, 0.4543, 0.1959],\n",
      "        [0.0444, 0.1885, 0.0218]])\n",
      "\n",
      "Initialized weight:\n",
      "tensor([[0.0000, 0.1552, 0.0000],\n",
      "        [0.0000, 0.0000, 0.3606],\n",
      "        [0.8375, 0.0000, 0.1959],\n",
      "        [0.0444, 0.0000, 0.0218]], grad_fn=<MulBackward0>)\n"
     ]
    }
   ],
   "source": [
    "layer = nn.Linear(3, 4)\n",
    "X = torch.rand_like(layer.weight)\n",
    "print(f\"Initialization matrix:\\n{X}\")\n",
    "parametrize.register_parametrization(layer, \"weight\", PruningParametrization(layer.weight))\n",
    "layer.weight = X\n",
    "print(f\"\\nInitialized weight:\\n{layer.weight}\")"
   ]
  },
  {
   "cell_type": "code",
   "execution_count": 56,
   "metadata": {},
   "outputs": [
    {
     "name": "stdout",
     "output_type": "stream",
     "text": [
      "Before:\n",
      "Linear(in_features=3, out_features=3, bias=True)\n",
      "Parameter containing:\n",
      "tensor([[-0.5208, -0.1568, -0.0597],\n",
      "        [ 0.4842, -0.5202, -0.2884],\n",
      "        [-0.5494, -0.4066, -0.5236]], requires_grad=True)\n",
      "\n",
      "Parametrized:\n",
      "ParametrizedLinear(\n",
      "  in_features=3, out_features=3, bias=True\n",
      "  (parametrizations): ModuleDict(\n",
      "    (weight): ParametrizationList(\n",
      "      (0): Skew()\n",
      "    )\n",
      "  )\n",
      ")\n",
      "tensor([[ 0.0000, -0.1568, -0.0597],\n",
      "        [ 0.1568,  0.0000, -0.2884],\n",
      "        [ 0.0597,  0.2884,  0.0000]], grad_fn=<SubBackward0>)\n",
      "\n",
      "After. Weight has skew-symmetric values but it is unconstrained:\n",
      "Linear(in_features=3, out_features=3, bias=True)\n",
      "Parameter containing:\n",
      "tensor([[ 0.0000, -0.1568, -0.0597],\n",
      "        [ 0.1568,  0.0000, -0.2884],\n",
      "        [ 0.0597,  0.2884,  0.0000]], requires_grad=True)\n"
     ]
    }
   ],
   "source": [
    "layer = nn.Linear(3, 3)\n",
    "print(\"Before:\")\n",
    "print(layer)\n",
    "print(layer.weight)\n",
    "parametrize.register_parametrization(layer, \"weight\", Skew())\n",
    "print(\"\\nParametrized:\")\n",
    "print(layer)\n",
    "print(layer.weight)\n",
    "parametrize.remove_parametrizations(layer, \"weight\")\n",
    "print(\"\\nAfter. Weight has skew-symmetric values but it is unconstrained:\")\n",
    "print(layer)\n",
    "print(layer.weight)"
   ]
  },
  {
   "cell_type": "code",
   "execution_count": 57,
   "metadata": {},
   "outputs": [
    {
     "name": "stdout",
     "output_type": "stream",
     "text": [
      "Before:\n",
      "Linear(in_features=3, out_features=3, bias=True)\n",
      "Parameter containing:\n",
      "tensor([[-0.2894, -0.0838, -0.0855],\n",
      "        [ 0.4133,  0.3882, -0.1892],\n",
      "        [-0.1343,  0.3262,  0.3094]], requires_grad=True)\n",
      "\n",
      "Parametrized:\n",
      "ParametrizedLinear(\n",
      "  in_features=3, out_features=3, bias=True\n",
      "  (parametrizations): ModuleDict(\n",
      "    (weight): ParametrizationList(\n",
      "      (0): Skew()\n",
      "    )\n",
      "  )\n",
      ")\n",
      "tensor([[ 0.0000, -0.0838, -0.0855],\n",
      "        [ 0.0838,  0.0000, -0.1892],\n",
      "        [ 0.0855,  0.1892,  0.0000]], grad_fn=<SubBackward0>)\n",
      "\n",
      "After. Same as Before:\n",
      "Linear(in_features=3, out_features=3, bias=True)\n",
      "Parameter containing:\n",
      "tensor([[ 0.0000, -0.0838, -0.0855],\n",
      "        [ 0.0000,  0.0000, -0.1892],\n",
      "        [ 0.0000,  0.0000,  0.0000]], requires_grad=True)\n"
     ]
    }
   ],
   "source": [
    "layer = nn.Linear(3, 3)\n",
    "print(\"Before:\")\n",
    "print(layer)\n",
    "print(layer.weight)\n",
    "parametrize.register_parametrization(layer, \"weight\", Skew())\n",
    "print(\"\\nParametrized:\")\n",
    "print(layer)\n",
    "print(layer.weight)\n",
    "parametrize.remove_parametrizations(layer, \"weight\", leave_parametrized=False)\n",
    "print(\"\\nAfter. Same as Before:\")\n",
    "print(layer)\n",
    "print(layer.weight)"
   ]
  }
 ],
 "metadata": {
  "kernelspec": {
   "display_name": "Python 3",
   "language": "python",
   "name": "python3"
  },
  "language_info": {
   "codemirror_mode": {
    "name": "ipython",
    "version": 3
   },
   "file_extension": ".py",
   "mimetype": "text/x-python",
   "name": "python",
   "nbconvert_exporter": "python",
   "pygments_lexer": "ipython3",
   "version": "3.10.12"
  }
 },
 "nbformat": 4,
 "nbformat_minor": 2
}
